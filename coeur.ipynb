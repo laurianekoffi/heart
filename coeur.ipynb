{
 "cells": [
  {
   "cell_type": "code",
   "execution_count": null,
   "metadata": {},
   "outputs": [],
   "source": [
    "# importationde bibliothe\n",
    "import numpy as np\n",
    "import pandas as pd \n",
    "import matplotlib.pyplot as plt\n",
    "import seaborn as sns"
   ]
  },
  {
   "cell_type": "code",
   "execution_count": null,
   "metadata": {},
   "outputs": [],
   "source": [
    "#  charger le dataset\n",
    "df = pd.read_excel (\"coeur.xlsx\")\n",
    "df\n"
   ]
  },
  {
   "cell_type": "code",
   "execution_count": null,
   "metadata": {},
   "outputs": [],
   "source": [
    "# verifier si il n y a pas de duplication\n",
    "df.duplicated()"
   ]
  },
  {
   "cell_type": "code",
   "execution_count": null,
   "metadata": {},
   "outputs": [],
   "source": [
    "df.info()"
   ]
  },
  {
   "cell_type": "code",
   "execution_count": null,
   "metadata": {},
   "outputs": [],
   "source": [
    "# verifier les valeurs manquantes\n",
    "df.isna().sum()"
   ]
  },
  {
   "cell_type": "code",
   "execution_count": null,
   "metadata": {},
   "outputs": [],
   "source": [
    "# visualisation de la target\n",
    "eff_coeur = df['CŒUR'].value_counts()\n",
    "labels_coeur = eff_coeur.index\n",
    "plt.pie(eff_coeur, autopct= \"%1.2f%%\", labels= labels_coeur)\n",
    "plt.title('Diagramme circulaire de la variable \"coeur\"')\n",
    "plt.show"
   ]
  },
  {
   "cell_type": "code",
   "execution_count": null,
   "metadata": {},
   "outputs": [],
   "source": [
    "#Création d'une liste de variables qualitatives et d'une liste de quantitatives\n",
    "quanti = ['AGE','PAR','CHOLESTEROL','GAJ','FCMAX','DEPRESSION ',]\n",
    "quali = ['SEXE','TDT','ECG','ANGINE','PENTE']"
   ]
  },
  {
   "cell_type": "code",
   "execution_count": null,
   "metadata": {},
   "outputs": [],
   "source": [
    "# visualisation de variables qualitatives \n",
    "X1 = pd.DataFrame(df, columns = quali)\n",
    "X1"
   ]
  },
  {
   "cell_type": "code",
   "execution_count": null,
   "metadata": {},
   "outputs": [],
   "source": [
    "for col in df.select_dtypes(include=object):\n",
    "    if col not in 'CŒUR':\n",
    "        plt.figure()\n",
    "        plt.pie(df[col].value_counts(), autopct= \"%1.2f%%\", labels=df[col].unique())\n",
    "        plt.title(col)\n",
    "        plt.legend()"
   ]
  },
  {
   "cell_type": "code",
   "execution_count": null,
   "metadata": {},
   "outputs": [],
   "source": [
    "# visualisation de la target\n",
    "eff_GAJ = df['GAJ'].value_counts()\n",
    "labels_GAJ = eff_GAJ.index\n",
    "plt.pie(eff_GAJ, autopct= \"%1.2f%%\", labels= labels_GAJ)\n",
    "plt.title('Diagramme circulaire de la variable \"GAJ\"')\n",
    "plt.show"
   ]
  },
  {
   "cell_type": "code",
   "execution_count": null,
   "metadata": {},
   "outputs": [],
   "source": [
    "# visualisation de variables quantitative\n",
    "for col in df.select_dtypes(np.number):\n",
    "    plt.figure()\n",
    "    sns.distplot(df[col])"
   ]
  },
  {
   "cell_type": "code",
   "execution_count": null,
   "metadata": {},
   "outputs": [],
   "source": [
    "#verifions les valeurs aberante\n"
   ]
  },
  {
   "cell_type": "code",
   "execution_count": null,
   "metadata": {},
   "outputs": [],
   "source": [
    "# visualisation de variables quantitative\n",
    "for col in df.select_dtypes(np.number):\n",
    "    plt.figure()\n",
    "    sns.boxplot(df[col])"
   ]
  },
  {
   "cell_type": "markdown",
   "metadata": {},
   "source": [
    "# visualisation des variable qualitative en fonction de la target"
   ]
  },
  {
   "cell_type": "code",
   "execution_count": null,
   "metadata": {},
   "outputs": [],
   "source": [
    "pd.crosstab(df['SEXE'], df['CŒUR'])"
   ]
  },
  {
   "cell_type": "code",
   "execution_count": null,
   "metadata": {},
   "outputs": [],
   "source": [
    "for col in df.select_dtypes(object):\n",
    "    plt.figure(figsize=(10, 7))\n",
    "    sns.countplot(x=col, hue='CŒUR', data=df);"
   ]
  },
  {
   "cell_type": "code",
   "execution_count": null,
   "metadata": {
    "scrolled": false
   },
   "outputs": [],
   "source": [
    "plt.figure(figsize=(10, 7))\n",
    "sns.countplot(x='AGE', hue='CŒUR', data=df);"
   ]
  },
  {
   "cell_type": "code",
   "execution_count": null,
   "metadata": {},
   "outputs": [],
   "source": []
  },
  {
   "cell_type": "markdown",
   "metadata": {},
   "source": [
    "## les  corrélation"
   ]
  },
  {
   "cell_type": "code",
   "execution_count": null,
   "metadata": {},
   "outputs": [],
   "source": [
    "\n",
    "sns.pairplot(df);"
   ]
  },
  {
   "cell_type": "code",
   "execution_count": null,
   "metadata": {},
   "outputs": [],
   "source": [
    "sns.heatmap(df.corr(), annot=True);"
   ]
  },
  {
   "cell_type": "code",
   "execution_count": null,
   "metadata": {},
   "outputs": [],
   "source": []
  },
  {
   "cell_type": "code",
   "execution_count": null,
   "metadata": {},
   "outputs": [],
   "source": []
  },
  {
   "cell_type": "code",
   "execution_count": null,
   "metadata": {},
   "outputs": [],
   "source": []
  },
  {
   "cell_type": "markdown",
   "metadata": {},
   "source": [
    "## analyse exploratoire de données\n",
    "### objectif :\n",
    ".Comprendre du mieux nos données\n",
    ".Developper une premiere stratégie de modelisation\n",
    "\n",
    "### checklist de base\n",
    "### Analyse de forme:n \n",
    "\n",
    "# Signification des variables:\n",
    ".La variable a predire (variable target): coeur -COEUR : maladie cardiaque[1 : Présence de la maladie, 0 : Absence de la maladie]\n",
    "\n",
    "age: age du patient\n",
    "\n",
    "le sexe\n",
    "\n",
    "TDT : type de douleur thoracique [AT : angine typique, AA : angine atypique, DNA : douleur non angineuse, ASY : asymptomatique]\n",
    "\n",
    "PAR : pression artérielle au repos\n",
    "\n",
    "CHOLESTEROL : cholestérol sérique [mm/dl]\n",
    "\n",
    "GAJ : glycémie à jeun [1 : si glycémie à jeun > 120 mg/dl, 0 : sinon] DIABETE\n",
    "\n",
    "ECG au repos : résultats de l'électrocardiogramme au repos [Normal : normal, ST : présentant une anomalie de l'onde ST-T , HVG : montrant une hypertrophie ventriculaire gauche probable]\n",
    "FCMAX : fréquence cardiaque maximale atteinte \n",
    "ANGINE : angine induite par l'exercice [Oui, Non]\n",
    "DEPRESSION : Valeur numérique mesurée en dépression\n",
    "PENTE: la pente du segment ST d'exercice de pointe [Ascendant, Plat, Descendant]\n",
    "\n",
    ".Ligne et colonnes: (918 lignes, 12 colonnes)\n",
    "\n",
    ".types de variable: 5 variables qualitatives et  7 variable quantitatives\n",
    "\n",
    ".Analyse de valeurs manquantes: aucune valeur manquantes\n",
    "\n",
    "\n",
    "### Analyse de fond:\n",
    "\n",
    "\n",
    ".Visualisation de la target: coeur \n",
    "55,34% des individu on une presence de maladie cardiaque\n",
    "44,66% ne presente pas de maladie\n",
    "\n",
    "\n",
    "\n",
    "# visualisation des differente variables (quantitative et qualitative)\n",
    "\n",
    "\n",
    "## variables qualitative\n",
    "\n",
    "\n",
    "l a variables sexe : il y a plus d'homme que de femme\n",
    "78.98% d'hommes contre 21.02% de femmes\n",
    "\n",
    "variables TDT: \n",
    "54,03% de personne ont une angine athypique\n",
    "22.11% douleur non angineuse\n",
    "18.85% asymptomatique\n",
    "5.01%angine typique\n",
    "\n",
    "variable ECG:\n",
    "60.13% normal\n",
    "20.48% présentant une anomalie de l'onde\n",
    "19.39% montrant une hypertrophie ventriculaire \n",
    "\n",
    "variable angine:\n",
    " 59.59%non\n",
    " 40.41% oui\n",
    "  variable pente :\n",
    "  50.11 Ascendant,\n",
    "  43.03%Plat, \n",
    "  6.86 Descendant\n",
    "  GAJ/\n",
    "  76.69% 0\n",
    "  23.31%  1\n",
    "\n",
    "\n",
    "\n",
    "## variables quantitative\n",
    "La plupart des caractéristiques étudiées ne sont pas réparties de façon uniform\n",
    "### verifions les valeurs abérantes\n",
    "\n",
    "## visualisation des variable qualitative en fonction de la target\n",
    "sexe : les hommes ont plus la maladie cardiaque contrairement aux femmes\n",
    "TDT: les personnes ayant une une douleur thoracique asympthomatique ont plus la maladie cardiaque\n",
    " les personnes qui ont une angine induite par l'exercice on plus la maladie cardiaque\n",
    " \n",
    " \n",
    " ## visualisation des variable quantitative en fonction de la target\n",
    " age: plus un individu es age plus il a une maladie \n",
    " \n",
    "### corrélation \n",
    "faible corrélation entre nos variables quantitative\n"
   ]
  },
  {
   "cell_type": "code",
   "execution_count": null,
   "metadata": {},
   "outputs": [],
   "source": [
    "df1 = df.copy()\n",
    "df1"
   ]
  },
  {
   "cell_type": "code",
   "execution_count": null,
   "metadata": {},
   "outputs": [],
   "source": [
    "#Création d'une liste de variables qualitatives et d'une liste de quantitatives\n",
    "quanti = ['AGE','PAR','CHOLESTEROL','FCMAX','DEPRESSION ',]\n",
    "quali = ['SEXE','TDT','ECG','ANGINE','PENTE','GAJ']"
   ]
  },
  {
   "cell_type": "code",
   "execution_count": null,
   "metadata": {},
   "outputs": [],
   "source": [
    "# visualisation de variables qualitatives \n",
    "quali= pd.DataFrame(df1, columns = quali)\n",
    "quali"
   ]
  },
  {
   "cell_type": "code",
   "execution_count": null,
   "metadata": {},
   "outputs": [],
   "source": [
    "encoda = {'homme':1,\n",
    "         'femme':0,\n",
    "         'DNA':0,\n",
    "         'AT':1,\n",
    "         'AA':2,\n",
    "         'ASY':3,\n",
    "         'Normal':0,\n",
    "         'ST':1,\n",
    "         'LVH':2,\n",
    "         'Non':0,\n",
    "         'Oui':1,\n",
    "         'Ascendant':2,\n",
    "         'Plat':0,\n",
    "         'Descendant':1}"
   ]
  },
  {
   "cell_type": "code",
   "execution_count": null,
   "metadata": {},
   "outputs": [],
   "source": [
    "for col in quali:\n",
    "    quali[col]= quali[col].map(encoda)"
   ]
  },
  {
   "cell_type": "code",
   "execution_count": null,
   "metadata": {},
   "outputs": [],
   "source": []
  }
 ],
 "metadata": {
  "kernelspec": {
   "display_name": "Python 3",
   "language": "python",
   "name": "python3"
  },
  "language_info": {
   "codemirror_mode": {
    "name": "ipython",
    "version": 3
   },
   "file_extension": ".py",
   "mimetype": "text/x-python",
   "name": "python",
   "nbconvert_exporter": "python",
   "pygments_lexer": "ipython3",
   "version": "3.8.5"
  }
 },
 "nbformat": 4,
 "nbformat_minor": 4
}
